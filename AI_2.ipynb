{
  "nbformat": 4,
  "nbformat_minor": 0,
  "metadata": {
    "colab": {
      "name": "AI-2",
      "provenance": [],
      "collapsed_sections": [],
      "authorship_tag": "ABX9TyOPfDNXIiGr8HLg7hwKX1HG",
      "include_colab_link": true
    },
    "kernelspec": {
      "name": "python3",
      "display_name": "Python 3"
    }
  },
  "cells": [
    {
      "cell_type": "markdown",
      "metadata": {
        "id": "view-in-github",
        "colab_type": "text"
      },
      "source": [
        "<a href=\"https://colab.research.google.com/github/18K-480/ass-2/blob/master/AI_2.ipynb\" target=\"_parent\"><img src=\"https://colab.research.google.com/assets/colab-badge.svg\" alt=\"Open In Colab\"/></a>"
      ]
    },
    {
      "cell_type": "markdown",
      "metadata": {
        "id": "8np7xJPP96UV",
        "colab_type": "text"
      },
      "source": [
        "1.Area of triangle"
      ]
    },
    {
      "cell_type": "code",
      "metadata": {
        "id": "AcLuUVk999Gv",
        "colab_type": "code",
        "colab": {
          "base_uri": "https://localhost:8080/",
          "height": 84
        },
        "outputId": "e6584f4b-6a62-4ac9-b633-7d39d73a9fc8"
      },
      "source": [
        "a=float(input(\"enter 1st side\"))\n",
        "b=float(input(\"enter 2nd side\"))\n",
        "c=float(input(\"enter 3rd side\"))\n",
        "s=(a+b+c)/2\n",
        "area=(s*(s-a)*(s-b)*(s-c))**(1/2)\n",
        "print(\"Area=\",area)"
      ],
      "execution_count": null,
      "outputs": [
        {
          "output_type": "stream",
          "text": [
            "enter 1st side18\n",
            "enter 2nd side30\n",
            "enter 3rd side24\n",
            "Area= 216.0\n"
          ],
          "name": "stdout"
        }
      ]
    },
    {
      "cell_type": "markdown",
      "metadata": {
        "id": "mhT3AQVZ94ZY",
        "colab_type": "text"
      },
      "source": [
        "2.string palindrome or not"
      ]
    },
    {
      "cell_type": "code",
      "metadata": {
        "id": "fQvSBrbABFLb",
        "colab_type": "code",
        "colab": {
          "base_uri": "https://localhost:8080/",
          "height": 50
        },
        "outputId": "a0744a9e-794f-4f75-da96-9525b91e0834"
      },
      "source": [
        "a=input(\"enter string:\")\n",
        "b=a.lower()\n",
        "if b==b[::-1]:\n",
        "  print(\"given string is palindrome\")\n",
        "else:\n",
        "  print(\"given string is not palindrome\")"
      ],
      "execution_count": null,
      "outputs": [
        {
          "output_type": "stream",
          "text": [
            "enter string:mom\n",
            "given string is palindrome\n"
          ],
          "name": "stdout"
        }
      ]
    },
    {
      "cell_type": "markdown",
      "metadata": {
        "id": "gwz7L9RvAiWC",
        "colab_type": "text"
      },
      "source": [
        "3.leap year or not"
      ]
    },
    {
      "cell_type": "code",
      "metadata": {
        "id": "Nw0B4tb9Ajlz",
        "colab_type": "code",
        "colab": {
          "base_uri": "https://localhost:8080/",
          "height": 50
        },
        "outputId": "2e012c69-506d-4754-862e-457e989c1470"
      },
      "source": [
        "a=int(input(\"enter year\"))\n",
        "if a%4==0 and a%100!=0 or a%400==0:\n",
        "  print(\"leap year\")\n",
        "else:\n",
        "  print(\"Not a leap year\")"
      ],
      "execution_count": null,
      "outputs": [
        {
          "output_type": "stream",
          "text": [
            "enter year2064\n",
            "leap year\n"
          ],
          "name": "stdout"
        }
      ]
    },
    {
      "cell_type": "markdown",
      "metadata": {
        "id": "4zfSmZ0aAn-G",
        "colab_type": "text"
      },
      "source": [
        "4.Space to hyphen problem"
      ]
    },
    {
      "cell_type": "code",
      "metadata": {
        "id": "Rtf4HZXmAoeT",
        "colab_type": "code",
        "colab": {
          "base_uri": "https://localhost:8080/",
          "height": 50
        },
        "outputId": "4ac8818f-2c20-4c10-ad8a-05a60533b98c"
      },
      "source": [
        "a=input(\"Enter a string:\")\n",
        "b=a.replace(\" \",\"-\")\n",
        "print(b)"
      ],
      "execution_count": null,
      "outputs": [
        {
          "output_type": "stream",
          "text": [
            "Enter a string:welcome good morning\n",
            "welcome-good-morning\n"
          ],
          "name": "stdout"
        }
      ]
    },
    {
      "cell_type": "markdown",
      "metadata": {
        "id": "W-naw3dVApNb",
        "colab_type": "text"
      },
      "source": [
        "5.Unique sort problem"
      ]
    },
    {
      "cell_type": "code",
      "metadata": {
        "id": "8hkCoLn7CCWV",
        "colab_type": "code",
        "colab": {
          "base_uri": "https://localhost:8080/",
          "height": 50
        },
        "outputId": "0260e67a-d7fe-4871-b011-1aa626a33d2b"
      },
      "source": [
        "a=input(\"Enter a string\")\n",
        "print(sorted(set(a.split(\",\"))))"
      ],
      "execution_count": 22,
      "outputs": [
        {
          "output_type": "stream",
          "text": [
            "Enter a stringorange,white,red,cyan,green,magenta,cyan,pink,white\n",
            "['cyan', 'green', 'magenta', 'orange', 'pink', 'red', 'white']\n"
          ],
          "name": "stdout"
        }
      ]
    },
    {
      "cell_type": "markdown",
      "metadata": {
        "id": "EUVqY5AjAuGS",
        "colab_type": "text"
      },
      "source": [
        "6.Tax calculator"
      ]
    },
    {
      "cell_type": "code",
      "metadata": {
        "id": "Md7lOM7KAu1Q",
        "colab_type": "code",
        "colab": {
          "base_uri": "https://localhost:8080/",
          "height": 67
        },
        "outputId": "838c7902-53c7-43f2-ab4c-13ac2f38d0b8"
      },
      "source": [
        "s=int(input(\"Enter montly salary:\"))\n",
        "if s<=250000:\n",
        "  print(\"No tax\")\n",
        "elif 250001<=s and s<=500000:\n",
        "  print(\"Tax rate is 5%\")\n",
        "  print(\"Tax amount=\",(s*5)/100)\n",
        "elif 500001<=s and s<=750000:\n",
        "  print(\"Tax rate is 10%\")\n",
        "  print(\"Tax amount=\",(s*10)/100)\n",
        "elif 750001<=s and s<=1000000:\n",
        "  print(\"Tax rate is 15%\")\n",
        "  print(\"Tax amount=\",(s*15)/100)\n",
        "elif 1000001<=s and s<=1250000:\n",
        "  print(\"Tax rate is 20%\")\n",
        "  print(\"Tax amount=\",(s*20)/100)\n",
        "elif 1250001<=s and s<=1500000:\n",
        "  print(\"Tax rate is 25%\")\n",
        "  print(\"Tax amount=\",(s*25)/100)\n",
        "else:\n",
        "  print(\"Tax is 30%\")\n",
        "  print(\"Tax amount=\",(s*30)/100)"
      ],
      "execution_count": null,
      "outputs": [
        {
          "output_type": "stream",
          "text": [
            "Enter montly salary:1400000\n",
            "Tax rate is 25%\n",
            "Tax amount= 350000.0\n"
          ],
          "name": "stdout"
        }
      ]
    },
    {
      "cell_type": "markdown",
      "metadata": {
        "id": "qMFoZjJdAvXK",
        "colab_type": "text"
      },
      "source": [
        "7.List of arguments into single integer"
      ]
    },
    {
      "cell_type": "code",
      "metadata": {
        "id": "K6tT_e-KAwib",
        "colab_type": "code",
        "colab": {
          "base_uri": "https://localhost:8080/",
          "height": 118
        },
        "outputId": "df7051f0-ab5b-41a8-8814-9e63c69c3a77"
      },
      "source": [
        "l=[]\n",
        "n=int(input(\"enter no. of values in list\"))\n",
        "for i in range(0,n):\n",
        "  a=int(input())\n",
        "  l.append(a)\n",
        "print(l)\n",
        "list_int=int(\"\".join(map(str,l)))\n",
        "print(list_int)"
      ],
      "execution_count": null,
      "outputs": [
        {
          "output_type": "stream",
          "text": [
            "enter no. of values in list3\n",
            "11\n",
            "33\n",
            "50\n",
            "[11, 33, 50]\n",
            "113350\n"
          ],
          "name": "stdout"
        }
      ]
    },
    {
      "cell_type": "markdown",
      "metadata": {
        "id": "0ATtcPcDAw9Q",
        "colab_type": "text"
      },
      "source": [
        "8.Units of Time"
      ]
    },
    {
      "cell_type": "code",
      "metadata": {
        "id": "EMVj5d6AAxmI",
        "colab_type": "code",
        "colab": {
          "base_uri": "https://localhost:8080/",
          "height": 101
        },
        "outputId": "3b092142-a195-4daf-d59c-a980351ec35e"
      },
      "source": [
        "d=int(input(\"enter no. of days:\"))\n",
        "h=int(input(\"enter no. of hours:\"))\n",
        "m=int(input(\"enter no. of minutes:\"))\n",
        "s=int(input(\"enter no. of seconds:\"))\n",
        "d=d*86400\n",
        "h=h*3600\n",
        "m=m*60\n",
        "seconds=d+h+m+s\n",
        "print(\"total no. of seconds=\",seconds)"
      ],
      "execution_count": null,
      "outputs": [
        {
          "output_type": "stream",
          "text": [
            "enter no. of days:2\n",
            "enter no. of hours:12\n",
            "enter no. of minutes:35\n",
            "enter no. of seconds:60\n",
            "total no. of seconds= 218160\n"
          ],
          "name": "stdout"
        }
      ]
    },
    {
      "cell_type": "markdown",
      "metadata": {
        "id": "u9nBI6sTAyBB",
        "colab_type": "text"
      },
      "source": [
        "9.Sort 3 integers"
      ]
    },
    {
      "cell_type": "code",
      "metadata": {
        "id": "3Kf3lcvPAz0a",
        "colab_type": "code",
        "colab": {
          "base_uri": "https://localhost:8080/",
          "height": 84
        },
        "outputId": "a341b514-d57c-45ea-a833-5e92a2b44639"
      },
      "source": [
        "a=int(input(\"enter 1st number\"))\n",
        "b=int(input(\"enter 2nd number\"))\n",
        "c=int(input(\"enter 3rd number\"))\n",
        "min_fun=min(a,b,c)\n",
        "max_fun=max(a,b,c)\n",
        "res=(a+b+c)-min_fun-max_fun\n",
        "print(\"Sorted order is:\",min_fun,res,max_fun)\n"
      ],
      "execution_count": null,
      "outputs": [
        {
          "output_type": "stream",
          "text": [
            "enter 1st number20\n",
            "enter 2nd number10\n",
            "enter 3rd number30\n",
            "Sorted order is: 10 20 30\n"
          ],
          "name": "stdout"
        }
      ]
    },
    {
      "cell_type": "markdown",
      "metadata": {
        "id": "EB4hnNAlA0cJ",
        "colab_type": "text"
      },
      "source": [
        "10.Reads date and print its successor "
      ]
    },
    {
      "cell_type": "code",
      "metadata": {
        "id": "6avhJHkWwFqZ",
        "colab_type": "code",
        "colab": {
          "base_uri": "https://localhost:8080/",
          "height": 101
        },
        "outputId": "5dd893ce-a47f-43d6-bd78-54e07e4cfcdb"
      },
      "source": [
        "yr=int(input(\"enter year\"))\n",
        "mon=int(input(\"enter month\"))\n",
        "dt=int(input(\"enter date\"))\n",
        "print(yr,\"-\",mon,\"-\",dt)\n",
        "if yr%4==0 and yr%100!=0 or yr%400==0:\n",
        "  if mon==2:\n",
        "    mon_len=29\n",
        "  else:\n",
        "    mon_len=28\n",
        "elif mon in(1,3,5,7,8,10,12):\n",
        "  mon_len=31\n",
        "else:\n",
        "  mon_len=30\n",
        "if dt<mon_len:\n",
        "  dt+=1\n",
        "else:\n",
        "  date=1\n",
        "  if mon==12:\n",
        "    mon=1\n",
        "    yr+=1\n",
        "  else:\n",
        "    mon+=1\n",
        "print(yr,\"-\",mon,\"-\",dt)"
      ],
      "execution_count": null,
      "outputs": [
        {
          "output_type": "stream",
          "text": [
            "enter year2020\n",
            "enter month08\n",
            "enter date22\n",
            "2020 - 8 - 22\n",
            "2020 - 8 - 23\n"
          ],
          "name": "stdout"
        }
      ]
    },
    {
      "cell_type": "markdown",
      "metadata": {
        "id": "YxXcPSaqA2IB",
        "colab_type": "text"
      },
      "source": [
        "11.product of list of numbers"
      ]
    },
    {
      "cell_type": "code",
      "metadata": {
        "id": "xxY9zi72wFVw",
        "colab_type": "code",
        "colab": {
          "base_uri": "https://localhost:8080/",
          "height": 202
        },
        "outputId": "49e00225-6bd0-4f9b-fb77-a1cb0af2b9c8"
      },
      "source": [
        "l=[]\n",
        "p=1\n",
        "n=int(input(\"enter no. of values in list\"))\n",
        "for i in range(0,n):\n",
        "  a=int(input())\n",
        "  l.append(a)\n",
        "  p=p*a\n",
        "print(\"List=\",l)\n",
        "print(\"product=\",p)"
      ],
      "execution_count": null,
      "outputs": [
        {
          "output_type": "stream",
          "text": [
            "enter no. of values in list8\n",
            "45\n",
            "3\n",
            "2\n",
            "89\n",
            "72\n",
            "1\n",
            "10\n",
            "7\n",
            "List= [45, 3, 2, 89, 72, 1, 10, 7]\n",
            "product= 121111200\n"
          ],
          "name": "stdout"
        }
      ]
    },
    {
      "cell_type": "markdown",
      "metadata": {
        "id": "IPyDcuKwA3S3",
        "colab_type": "text"
      },
      "source": [
        "12.list[1,2,3] output[3,5]"
      ]
    },
    {
      "cell_type": "code",
      "metadata": {
        "id": "EKbgxSgFA32R",
        "colab_type": "code",
        "colab": {
          "base_uri": "https://localhost:8080/",
          "height": 34
        },
        "outputId": "9c9dd6d5-c8c2-485c-9f18-11b80772b3e0"
      },
      "source": [
        "l=[5,6,8,34,89,1]\n",
        "out_list=[]\n",
        "for i in range(len(l)-1):\n",
        "    ol=l[i]+l[i+1]\n",
        "    out_list.append(ol)\n",
        "print(\"Result=\",out_list)\n"
      ],
      "execution_count": 7,
      "outputs": [
        {
          "output_type": "stream",
          "text": [
            "Result= [11, 14, 42, 123, 90]\n"
          ],
          "name": "stdout"
        }
      ]
    },
    {
      "cell_type": "markdown",
      "metadata": {
        "id": "Bgr3IkGqA4SM",
        "colab_type": "text"
      },
      "source": [
        "13.Tuple (2,3,4) output(2,6,12)"
      ]
    },
    {
      "cell_type": "code",
      "metadata": {
        "id": "_AFtGYhbA5wU",
        "colab_type": "code",
        "colab": {
          "base_uri": "https://localhost:8080/",
          "height": 34
        },
        "outputId": "1285f9a4-e544-4e85-d6b5-d58556e57d19"
      },
      "source": [
        "t=(5,6,8,3,9,1)\n",
        "Out_list=[]\n",
        "Out_list.append(t[0])\n",
        "for i in range(len(t)-1):\n",
        "    m=Out_list[i]*t[i+1]\n",
        "    Out_list.append(m)\n",
        "print(\"Out_list=\",Out_list)"
      ],
      "execution_count": 25,
      "outputs": [
        {
          "output_type": "stream",
          "text": [
            "Out_list= [5, 30, 240, 720, 6480, 6480]\n"
          ],
          "name": "stdout"
        }
      ]
    },
    {
      "cell_type": "markdown",
      "metadata": {
        "id": "CpaKMY4UA9Uh",
        "colab_type": "text"
      },
      "source": [
        "14.takes integers and print as list"
      ]
    },
    {
      "cell_type": "code",
      "metadata": {
        "id": "ECt5491I5L0Z",
        "colab_type": "code",
        "colab": {
          "base_uri": "https://localhost:8080/",
          "height": 50
        },
        "outputId": "3ed1db3a-a73e-46b9-b41d-bf6da47b2072"
      },
      "source": [
        "a=int(input(\"enter a number\"))\n",
        "l= [int(x) for x in str(a)] \n",
        "print(l)"
      ],
      "execution_count": null,
      "outputs": [
        {
          "output_type": "stream",
          "text": [
            "enter a number1235\n",
            "[1, 2, 3, 5]\n"
          ],
          "name": "stdout"
        }
      ]
    },
    {
      "cell_type": "markdown",
      "metadata": {
        "id": "qgMVYUu0A-Ho",
        "colab_type": "text"
      },
      "source": [
        "15.finds the longest palindromic substring of a given string "
      ]
    },
    {
      "cell_type": "code",
      "metadata": {
        "id": "mohxcBW3A-s8",
        "colab_type": "code",
        "colab": {
          "base_uri": "https://localhost:8080/",
          "height": 50
        },
        "outputId": "d5b920d4-c573-4d1d-93b7-12be54ff2ef7"
      },
      "source": [
        "def longestpalindrome(n):\n",
        "    d=[[False for i in range(len(n))] for i in range(len(n))]\n",
        "    for i in range(len(n)):\n",
        "        d[i][i]=True\n",
        "    maxlen=1\n",
        "    start=0\n",
        "    for j in range(2,len(n)+1):\n",
        "        for i in range(len(n)-j+1):\n",
        "            end=i+j\n",
        "            if j==2:\n",
        "                if n[i]==n[end-1]:\n",
        "                    d[i][end-1]=True\n",
        "                    maxlen=j\n",
        "                    start=i\n",
        "            else:\n",
        "                if n[i]==n[end-1] and d[i+1][end-2]:\n",
        "                    d[i][end-1]=True\n",
        "                    maxlen=j\n",
        "                    start=i\n",
        "    return n[start:start+maxlen]\n",
        "n=input(\"Enter a string : \")\n",
        "print(longestpalindrome(n))"
      ],
      "execution_count": 3,
      "outputs": [
        {
          "output_type": "stream",
          "text": [
            "Enter a string : I know malayalam mom\n",
            " malayalam \n"
          ],
          "name": "stdout"
        }
      ]
    },
    {
      "cell_type": "markdown",
      "metadata": {
        "id": "f4Cirb55A-5J",
        "colab_type": "text"
      },
      "source": [
        "16.substring check"
      ]
    },
    {
      "cell_type": "code",
      "metadata": {
        "id": "e7Vag6zXA_fM",
        "colab_type": "code",
        "colab": {
          "base_uri": "https://localhost:8080/",
          "height": 67
        },
        "outputId": "8d67de53-f57e-46fc-8328-df1727e7a232"
      },
      "source": [
        "def check(str, sub_str): \n",
        "    if (str.find(sub_str) == -1): \n",
        "        print(\"0\") \n",
        "    else: \n",
        "        print(\"1\")\n",
        "str=input(\"Enter string\")\n",
        "sub_str =input(\"enter string\")\n",
        "check(str, sub_str) "
      ],
      "execution_count": null,
      "outputs": [
        {
          "output_type": "stream",
          "text": [
            "Enter string1010110010\n",
            "enter string10110\n",
            "1\n"
          ],
          "name": "stdout"
        }
      ]
    },
    {
      "cell_type": "markdown",
      "metadata": {
        "id": "KgYwvEHOBAA2",
        "colab_type": "text"
      },
      "source": [
        "17.Pouring water"
      ]
    },
    {
      "cell_type": "code",
      "metadata": {
        "id": "_RxwyXfByaqR",
        "colab_type": "code",
        "colab": {
          "base_uri": "https://localhost:8080/",
          "height": 168
        },
        "outputId": "a32beaca-4c91-4913-ca08-ffa0c38e71ae"
      },
      "source": [
        "def gcd(a,b):\n",
        "    if b==0: \n",
        "        return a \n",
        "    return gcd(b,a%b) \n",
        "def countsteps(a,b,c): \n",
        "    v1=b\n",
        "    v2=0\n",
        "    count=1\n",
        "    while ((v1 is not c) and (v2 is not c)): \n",
        "        temp=min(v1,a-v2) \n",
        "        v2=v2+temp \n",
        "        v1=v1-temp \n",
        "        count=count+1\n",
        "        if ((v2==c)or(v1==c)): \n",
        "            break\n",
        "        if v1==0: \n",
        "            v1=b \n",
        "            count=count+1\n",
        "        if v2==a: \n",
        "            v2=0\n",
        "            count=count+1\n",
        "    return count \n",
        "def ispossible(a,b,c): \n",
        "    if a>b: \n",
        "        temp=a \n",
        "        a=b \n",
        "        b=temp \n",
        "    if c>b: \n",
        "        return -1\n",
        "    if (c%(gcd(b,a)) is not 0): \n",
        "        return -1\n",
        "    return(min(countsteps(b,a,c),countsteps(a,b,c)))\n",
        "t=int(input(\"Enter no of testcases : \"))\n",
        "for i in range(t):\n",
        "  a=int(input(\"Enter capacity of vessel a : \"))\n",
        "  b=int(input(\"Enter capacity of vessel b : \"))\n",
        "  c=int(input(\"Enter capacity to be obtained :\"))\n",
        "  print(\"Minimum number of steps required is : \",ispossible(a,b,c))\n"
      ],
      "execution_count": 2,
      "outputs": [
        {
          "output_type": "stream",
          "text": [
            "Enter no of testcases : 2\n",
            "Enter capacity of vessel a : 5\n",
            "Enter capacity of vessel b : 2\n",
            "Enter capacity to be obtained :3\n",
            "Minimum number of steps required is :  2\n",
            "Enter capacity of vessel a : 2\n",
            "Enter capacity of vessel b : 3\n",
            "Enter capacity to be obtained :4\n",
            "Minimum number of steps required is :  -1\n"
          ],
          "name": "stdout"
        }
      ]
    }
  ]
}